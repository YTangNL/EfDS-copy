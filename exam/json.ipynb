{
 "cells": [
  {
   "cell_type": "code",
   "execution_count": 1,
   "metadata": {},
   "outputs": [],
   "source": [
    "import json\n",
    "\n",
    "assignmentsInfo = {\n",
    "    \"firstName\": \"Yixiao\",                          # [1] put your first name here (spelled as in Brightspace)\n",
    "    \"lastName\": \"Tang\",                          # [2] put your last name here (spelled as in Brightspace)\n",
    "    \"studentId\": \"s3855422\",                     # [3] put your student id (spelled as in Brightspace)\n",
    "    \"sshGitHub\": \"git@github.com:YTangNL/EfDS.git\"   # [4] copy here the SSH address of your GitHub repository\n",
    "                                                  #     (you may find it when you press the green Code button)\n",
    "}\n",
    "\n",
    "with open( \"assignments.json\", \"w\" ) as f:        # [5] run this cell to generate assignments.json file\n",
    "    json.dump( obj = assignmentsInfo, fp = f )\n",
    "\n",
    "                                                  # [6] submit the assignments.json file as a solution of\n",
    "                                                  #     \"SSH link to your GitHub repository\"\n",
    "                                                  #     assignment"
   ]
  },
  {
   "cell_type": "code",
   "execution_count": null,
   "metadata": {},
   "outputs": [],
   "source": []
  }
 ],
 "metadata": {
  "kernelspec": {
   "display_name": "Python 3",
   "language": "python",
   "name": "python3"
  },
  "language_info": {
   "codemirror_mode": {
    "name": "ipython",
    "version": 3
   },
   "file_extension": ".py",
   "mimetype": "text/x-python",
   "name": "python",
   "nbconvert_exporter": "python",
   "pygments_lexer": "ipython3",
   "version": "3.12.1"
  }
 },
 "nbformat": 4,
 "nbformat_minor": 2
}
