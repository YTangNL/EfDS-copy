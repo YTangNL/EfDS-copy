{
 "cells": [
  {
   "cell_type": "markdown",
   "id": "b9ccf0cb",
   "metadata": {},
   "source": [
    "# SQL modification statements (exercises)"
   ]
  },
  {
   "cell_type": "markdown",
   "id": "289777c9",
   "metadata": {},
   "source": [
    "## Preparation"
   ]
  },
  {
   "cell_type": "markdown",
   "id": "b5d77242",
   "metadata": {},
   "source": [
    "For this section you need `chinook.db` database file and working `%sql` magic.  \n",
    "If you don't have it, please go back to the [previous section](../09_sql/connect_to_database.ipynb) and follow the instructions.  \n",
    "The following code should not produce any errors:"
   ]
  },
  {
   "cell_type": "code",
   "execution_count": 7,
   "id": "89d64a98",
   "metadata": {},
   "outputs": [
    {
     "name": "stdout",
     "output_type": "stream",
     "text": [
      "The sql extension is already loaded. To reload it, use:\n",
      "  %reload_ext sql\n"
     ]
    }
   ],
   "source": [
    "%load_ext sql\n",
    "%sql sqlite:///chinook.db"
   ]
  },
  {
   "cell_type": "markdown",
   "id": "c80e4174",
   "metadata": {},
   "source": [
    "## Exercise: updating rows"
   ]
  },
  {
   "cell_type": "markdown",
   "id": "e8a9235e",
   "metadata": {},
   "source": [
    "An employee `Park Margaret` has moved to a new address: \n",
    "- `City`: `Toronto`,\n",
    "- `State`: `NO`,\n",
    "- `Postcode`: `M5P 2N7`. \n",
    "\n",
    "Update the `employee` table accordingly.  \n",
    "To verify that the change indeed is made, show the content before and after the change."
   ]
  },
  {
   "cell_type": "code",
   "execution_count": 10,
   "id": "50d41609",
   "metadata": {},
   "outputs": [
    {
     "data": {
      "text/html": [
       "<span style=\"None\">Running query in &#x27;sqlite:///chinook.db&#x27;</span>"
      ],
      "text/plain": [
       "Running query in 'sqlite:///chinook.db'"
      ]
     },
     "metadata": {},
     "output_type": "display_data"
    },
    {
     "data": {
      "text/html": [
       "<table>\n",
       "    <thead>\n",
       "        <tr>\n",
       "            <th>EmployeeId</th>\n",
       "            <th>LastName</th>\n",
       "            <th>FirstName</th>\n",
       "            <th>Title</th>\n",
       "            <th>ReportsTo</th>\n",
       "            <th>BirthDate</th>\n",
       "            <th>HireDate</th>\n",
       "            <th>Address</th>\n",
       "            <th>City</th>\n",
       "            <th>State</th>\n",
       "            <th>Country</th>\n",
       "            <th>PostalCode</th>\n",
       "            <th>Phone</th>\n",
       "            <th>Fax</th>\n",
       "            <th>Email</th>\n",
       "        </tr>\n",
       "    </thead>\n",
       "    <tbody>\n",
       "        <tr>\n",
       "            <td>1</td>\n",
       "            <td>Adams</td>\n",
       "            <td>Andrew</td>\n",
       "            <td>General Manager</td>\n",
       "            <td>None</td>\n",
       "            <td>1962-02-18 00:00:00</td>\n",
       "            <td>2002-08-14 00:00:00</td>\n",
       "            <td>11120 Jasper Ave NW</td>\n",
       "            <td>Edmonton</td>\n",
       "            <td>AB</td>\n",
       "            <td>Canada</td>\n",
       "            <td>T5K 2N1</td>\n",
       "            <td>+1 (780) 428-9482</td>\n",
       "            <td>+1 (780) 428-3457</td>\n",
       "            <td>andrew@chinookcorp.com</td>\n",
       "        </tr>\n",
       "        <tr>\n",
       "            <td>2</td>\n",
       "            <td>Edwards</td>\n",
       "            <td>Nancy</td>\n",
       "            <td>Sales Manager</td>\n",
       "            <td>1</td>\n",
       "            <td>1958-12-08 00:00:00</td>\n",
       "            <td>2002-05-01 00:00:00</td>\n",
       "            <td>825 8 Ave SW</td>\n",
       "            <td>Calgary</td>\n",
       "            <td>AB</td>\n",
       "            <td>Canada</td>\n",
       "            <td>T2P 2T3</td>\n",
       "            <td>+1 (403) 262-3443</td>\n",
       "            <td>+1 (403) 262-3322</td>\n",
       "            <td>nancy@chinookcorp.com</td>\n",
       "        </tr>\n",
       "        <tr>\n",
       "            <td>3</td>\n",
       "            <td>Smith</td>\n",
       "            <td>Jane</td>\n",
       "            <td>Sales Support Agent</td>\n",
       "            <td>2</td>\n",
       "            <td>1973-08-29 00:00:00</td>\n",
       "            <td>2002-04-01 00:00:00</td>\n",
       "            <td>1111 6 Ave SW</td>\n",
       "            <td>Calgary</td>\n",
       "            <td>AB</td>\n",
       "            <td>Canada</td>\n",
       "            <td>T2P 5M5</td>\n",
       "            <td>+1 (403) 262-3443</td>\n",
       "            <td>+1 (403) 262-6712</td>\n",
       "            <td>jane@chinookcorp.com</td>\n",
       "        </tr>\n",
       "        <tr>\n",
       "            <td>4</td>\n",
       "            <td>Park</td>\n",
       "            <td>Margaret</td>\n",
       "            <td>Sales Support Agent</td>\n",
       "            <td>2</td>\n",
       "            <td>1947-09-19 00:00:00</td>\n",
       "            <td>2003-05-03 00:00:00</td>\n",
       "            <td>683 10 Street SW</td>\n",
       "            <td>Calgary</td>\n",
       "            <td>AB</td>\n",
       "            <td>Canada</td>\n",
       "            <td>T2P 5G3</td>\n",
       "            <td>+1 (403) 263-4423</td>\n",
       "            <td>+1 (403) 263-4289</td>\n",
       "            <td>margaret@chinookcorp.com</td>\n",
       "        </tr>\n",
       "        <tr>\n",
       "            <td>5</td>\n",
       "            <td>Johnson</td>\n",
       "            <td>Steve</td>\n",
       "            <td>Sales Support Agent</td>\n",
       "            <td>2</td>\n",
       "            <td>1965-03-03 00:00:00</td>\n",
       "            <td>2003-10-17 00:00:00</td>\n",
       "            <td>7727B 41 Ave</td>\n",
       "            <td>Calgary</td>\n",
       "            <td>AB</td>\n",
       "            <td>Canada</td>\n",
       "            <td>T3B 1Y7</td>\n",
       "            <td>1 (780) 836-9987</td>\n",
       "            <td>1 (780) 836-9543</td>\n",
       "            <td>steve@chinookcorp.com</td>\n",
       "        </tr>\n",
       "    </tbody>\n",
       "</table>"
      ],
      "text/plain": [
       "+------------+----------+-----------+---------------------+-----------+---------------------+---------------------+---------------------+----------+-------+---------+------------+-------------------+-------------------+--------------------------+\n",
       "| EmployeeId | LastName | FirstName |        Title        | ReportsTo |      BirthDate      |       HireDate      |       Address       |   City   | State | Country | PostalCode |       Phone       |        Fax        |          Email           |\n",
       "+------------+----------+-----------+---------------------+-----------+---------------------+---------------------+---------------------+----------+-------+---------+------------+-------------------+-------------------+--------------------------+\n",
       "|     1      |  Adams   |   Andrew  |   General Manager   |    None   | 1962-02-18 00:00:00 | 2002-08-14 00:00:00 | 11120 Jasper Ave NW | Edmonton |   AB  |  Canada |  T5K 2N1   | +1 (780) 428-9482 | +1 (780) 428-3457 |  andrew@chinookcorp.com  |\n",
       "|     2      | Edwards  |   Nancy   |    Sales Manager    |     1     | 1958-12-08 00:00:00 | 2002-05-01 00:00:00 |     825 8 Ave SW    | Calgary  |   AB  |  Canada |  T2P 2T3   | +1 (403) 262-3443 | +1 (403) 262-3322 |  nancy@chinookcorp.com   |\n",
       "|     3      |  Smith   |    Jane   | Sales Support Agent |     2     | 1973-08-29 00:00:00 | 2002-04-01 00:00:00 |    1111 6 Ave SW    | Calgary  |   AB  |  Canada |  T2P 5M5   | +1 (403) 262-3443 | +1 (403) 262-6712 |   jane@chinookcorp.com   |\n",
       "|     4      |   Park   |  Margaret | Sales Support Agent |     2     | 1947-09-19 00:00:00 | 2003-05-03 00:00:00 |   683 10 Street SW  | Calgary  |   AB  |  Canada |  T2P 5G3   | +1 (403) 263-4423 | +1 (403) 263-4289 | margaret@chinookcorp.com |\n",
       "|     5      | Johnson  |   Steve   | Sales Support Agent |     2     | 1965-03-03 00:00:00 | 2003-10-17 00:00:00 |     7727B 41 Ave    | Calgary  |   AB  |  Canada |  T3B 1Y7   |  1 (780) 836-9987 |  1 (780) 836-9543 |  steve@chinookcorp.com   |\n",
       "+------------+----------+-----------+---------------------+-----------+---------------------+---------------------+---------------------+----------+-------+---------+------------+-------------------+-------------------+--------------------------+"
      ]
     },
     "execution_count": 10,
     "metadata": {},
     "output_type": "execute_result"
    }
   ],
   "source": [
    "%%sql\n",
    "SELECT *\n",
    "  FROM employees\n",
    "  ORDER BY EmployeeId LIMIT 5"
   ]
  },
  {
   "cell_type": "code",
   "execution_count": 30,
   "id": "aa7dade1",
   "metadata": {},
   "outputs": [
    {
     "data": {
      "text/html": [
       "<span style=\"None\">Running query in &#x27;sqlite:///chinook.db&#x27;</span>"
      ],
      "text/plain": [
       "Running query in 'sqlite:///chinook.db'"
      ]
     },
     "metadata": {},
     "output_type": "display_data"
    },
    {
     "data": {
      "text/html": [
       "<table>\n",
       "    <thead>\n",
       "        <tr>\n",
       "            <th>LastName</th>\n",
       "            <th>FirstName</th>\n",
       "            <th>City</th>\n",
       "            <th>State</th>\n",
       "            <th>PostalCode</th>\n",
       "        </tr>\n",
       "    </thead>\n",
       "    <tbody>\n",
       "        <tr>\n",
       "            <td>Park</td>\n",
       "            <td>Margaret</td>\n",
       "            <td>Calgary</td>\n",
       "            <td>AB</td>\n",
       "            <td>T2P 5G3</td>\n",
       "        </tr>\n",
       "    </tbody>\n",
       "</table>"
      ],
      "text/plain": [
       "+----------+-----------+---------+-------+------------+\n",
       "| LastName | FirstName |   City  | State | PostalCode |\n",
       "+----------+-----------+---------+-------+------------+\n",
       "|   Park   |  Margaret | Calgary |   AB  |  T2P 5G3   |\n",
       "+----------+-----------+---------+-------+------------+"
      ]
     },
     "execution_count": 30,
     "metadata": {},
     "output_type": "execute_result"
    }
   ],
   "source": [
    "%%sql\n",
    "SELECT LastName,FirstName,City, State, Postalcode\n",
    "  FROM employees\n",
    "  WHERE LastName = 'Park' AND FirstName = 'Margaret'\n"
   ]
  },
  {
   "cell_type": "code",
   "execution_count": 29,
   "id": "5b321f78",
   "metadata": {},
   "outputs": [
    {
     "data": {
      "text/html": [
       "<span style=\"None\">Running query in &#x27;sqlite:///chinook.db&#x27;</span>"
      ],
      "text/plain": [
       "Running query in 'sqlite:///chinook.db'"
      ]
     },
     "metadata": {},
     "output_type": "display_data"
    },
    {
     "name": "stderr",
     "output_type": "stream",
     "text": [
      "RuntimeError: (sqlite3.OperationalError) database is locked\n",
      "[SQL: UPDATE employees\n",
      "SET City = 'Toronto', State = 'NO', PostalCode = 'M5P 2N7'\n",
      "WHERE LastName = 'Park' AND FirstName = 'Margaret']\n",
      "(Background on this error at: https://sqlalche.me/e/20/e3q8)\n",
      "If you need help solving this issue, send us a message: https://ploomber.io/community\n"
     ]
    }
   ],
   "source": [
    "%%sql\n",
    "UPDATE employees \n",
    "SET City = 'Toronto', State = 'NO', PostalCode = 'M5P 2N7' \n",
    "WHERE LastName = 'Park' AND FirstName = 'Margaret'\n"
   ]
  },
  {
   "cell_type": "code",
   "execution_count": null,
   "id": "27ab32c5",
   "metadata": {},
   "outputs": [],
   "source": [
    "\n",
    "%%sql\n",
    "SELECT * FROM employee WHERE first_name = 'Park' AND last_name = 'Margaret';"
   ]
  },
  {
   "cell_type": "markdown",
   "id": "fef08ac9",
   "metadata": {},
   "source": [
    "## Exercise: adding rows"
   ]
  },
  {
   "cell_type": "markdown",
   "id": "9ae13873",
   "metadata": {},
   "source": [
    "In a single SQL command insert three new random persons into the `artists` table.  \n",
    "To verify that the change indeed is made, show the content before and after the change."
   ]
  },
  {
   "cell_type": "markdown",
   "id": "9a5d8609",
   "metadata": {},
   "source": [
    "## Exercise: removing rows"
   ]
  },
  {
   "cell_type": "markdown",
   "id": "d36bcbeb",
   "metadata": {},
   "source": [
    "Let's delete `artists` whose names contain the word `Santana`.  \n",
    "To verify that the change indeed is made, show the content before and after the change."
   ]
  }
 ],
 "metadata": {
  "kernelspec": {
   "display_name": "Python 3 (ipykernel)",
   "language": "python",
   "name": "python3"
  },
  "language_info": {
   "codemirror_mode": {
    "name": "ipython",
    "version": 3
   },
   "file_extension": ".py",
   "mimetype": "text/x-python",
   "name": "python",
   "nbconvert_exporter": "python",
   "pygments_lexer": "ipython3",
   "version": "3.12.1"
  }
 },
 "nbformat": 4,
 "nbformat_minor": 5
}
