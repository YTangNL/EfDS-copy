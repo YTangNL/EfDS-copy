{
 "cells": [
  {
   "cell_type": "markdown",
   "metadata": {
    "collapsed": false
   },
   "source": [
    "\n",
    "## Introduction\n",
    "\n",
    "The aim of this assignment is to give you the experience of using real public data and create your own report. The raw data are available in different formats and structures and often contain undesired formatting errors. Statistical data are continuously updated and may even provide API's to stream data instead of taking snapshots. We will be using snapshots in this assignment but to streamline the analysis around possible future snapshots you'll be implementing a 'data-specific' Python class with appropriate methods for data manipulation and visualisation.\n",
    "\n",
    "**Note:** please direct your questions on this assignment to **r.monajemi@lumc.nl**\n",
    "\n",
    "## Data: Emissions to air by the Dutch economy\n",
    "\n",
    "In this assignment we will be using *Emissions to air by the Dutch economy* [CBS StatLine](https://opendata.cbs.nl/portal.html?_la=en&_catalog=CBS&tableId=83300ENG&_theme=1129) dataset. There you'll find the latest release of the dataset, however and older version will be provided via brightspace. Note that the results that shown below are produced using the old datasets: the metadata (`83300ENG_metadata.csv`) and the raw data (`83300ENG_UntypedDataSet_29032023_184145.csv`). \n",
    "\n",
    "\n"
   ]
  },
  {
   "cell_type": "markdown",
   "metadata": {},
   "source": [
    "## Preparation"
   ]
  },
  {
   "cell_type": "code",
   "execution_count": 1,
   "metadata": {},
   "outputs": [
    {
     "name": "stdout",
     "output_type": "stream",
     "text": [
      "['PM10_14', 'PM10', 'Particulate matter (PM10 = particulates with diameter less than 10 micrometres). Among other causes, PM10 is formed during the combustion of diesel fuel, other fuels, various industrial processes, and wear processes like the wear of tyres, brake linings, road surface, and railway overhead contact lines. \\nPM10 is detrimental to health, penetrates deeply into the lungs.', 'mln kgs']\n"
     ]
    }
   ],
   "source": [
    "# find the beginning and end of the dataset\n",
    "import csv\n",
    "\n",
    "\n",
    "meta_lines = []\n",
    "with open(\"data/83300ENG_metadata.csv\", 'r') as f:\n",
    "    csv_data = csv.reader(f, delimiter=';')\n",
    "    for row in csv_data:\n",
    "        meta_lines.append(row)\n",
    "# print(len(meta_lines))\n",
    "# print(meta_lines[9])\n",
    "# for i in range(len(meta_lines)):\n",
    "#     if \"PM10_14\" in meta_lines[i]:\n",
    "#         print(i)\n",
    "\n",
    "meta_emission = meta_lines[9:26]\n",
    "column_index = [4, 5, 6, -3]\n",
    "new_list = [[row[i] for i in column_index] for row in meta_emission]\n",
    "print(new_list[16])"
   ]
  },
  {
   "cell_type": "markdown",
   "metadata": {},
   "source": [
    "## Solutions for assignment C"
   ]
  },
  {
   "cell_type": "code",
   "execution_count": 244,
   "metadata": {},
   "outputs": [],
   "source": [
    "# final edition\n",
    "import csv\n",
    "import pandas as pd\n",
    "import matplotlib.pyplot as plt\n",
    "import seaborn as sns\n",
    "import numpy as np\n",
    "\n",
    "class GWP:\n",
    "    # Question 1: read the data\n",
    "    def __init__(self, path, meta_path):            # g provides the weight of the \"unit\", kCal the energy of the \"unit\"\n",
    "        self._path = path\n",
    "        self._meta_path = meta_path\n",
    "        # read the emmission sources\n",
    "        meta_lines = []\n",
    "        with open(meta_path, 'r') as f:\n",
    "            csv_data = csv.reader(f, delimiter=';')\n",
    "            for row in csv_data:\n",
    "                meta_lines.append(row)\n",
    "        header = meta_lines[27]\n",
    "        header[0]= \"DutchEconomy\"\n",
    "        meta_source = meta_lines[28:87]\n",
    "        self.emission_sources = pd.DataFrame(meta_source,columns = header)\n",
    "        # read the emmission\n",
    "        header_emission = [\"\", \"Title\",\t\"Description\", \"Unit\"]\n",
    "        meta_emission = meta_lines[9:26]\n",
    "        column_index = [4, 5, 6, -3]\n",
    "        new_list = [[row[i] for i in column_index] for row in meta_emission]\n",
    "        self.emission = pd.DataFrame(new_list,columns = header_emission)\n",
    "        # read the data\n",
    "        self.data = pd.read_csv(path,sep=\";\")\n",
    "        # get the date\n",
    "        self.data[\"Date\"] = pd.to_datetime(self.data[\"Periods\"].str[0:4])\n",
    "        # merge the data with the source\n",
    "        self.data = self.data.merge(self.emission_sources, how='left', on='DutchEconomy')\n",
    "        self.data.drop('Description', inplace=True, axis=1)\n",
    "        self.data.rename(columns={'Title': 'Source'}, inplace=True)\n",
    "    # Question 2: adjust the data\n",
    "        # Convert N2O_4 and CH4_5 to CO2 equivalents.\n",
    "        self.data[\"N2O_4\"] *= 298 \n",
    "        self.data[\"CH4_5\"] *= 25\n",
    "        # Add a new variable HFC\n",
    "        self.data[\"HFC\"] =  self.data[\"GreenhouseGasEquivalents_6\"] - self.data[\"TotalCO2_1\"] - self.data[\"N2O_4\"] - self.data[\"CH4_5\"]\n",
    "    # Question 3: define plot\n",
    "    def plot(self,emission,source):\n",
    "        data_draw = pd.DataFrame(columns=self.data.columns)\n",
    "        for s in source:\n",
    "            for j in range(len(self.data.index)):\n",
    "                if s in self.data.iloc[j][\"Source\"].lower() or s in self.data.iloc[j][\"DutchEconomy\"].lower():\n",
    "                    data_draw.loc[len(data_draw)] = self.data.iloc[j]\n",
    "\n",
    "        emission_df = data_draw[emission]\n",
    "        id_vars = ['Date', 'Source']\n",
    "        select_id_vars = data_draw[id_vars]\n",
    "        merged_df = pd.concat([select_id_vars, emission_df], axis=1)\n",
    "        melt_data = pd.melt(frame=merged_df, id_vars=id_vars, var_name='Emission', value_name='Value')\n",
    "        sns.lineplot(data=melt_data, x='Date', y='Value', hue='Source', style='Emission')\n",
    "        plt.legend(bbox_to_anchor=(1.05, 0.5), loc='center left')\n",
    "    # Question 4: define get_emission\n",
    "    def get_emission(self, category):\n",
    "        emission_category = {\"ghg\": [\"TotalCO2_1\", \"CO2ExclBiomass_2\", \"CO2Biomass_3\", \"N2O_4\", \"CH4_5\", \"GreenhouseGasEquivalents_6\", \"HFC\"], \n",
    "                        \"acid\": [\"NOx_7\", \"SO2_8\", \"NH3_9\", \"AcidificationEquivalents_10\"], \n",
    "                        \"ozone\": [\"CFK12Equivalents_11\"], \n",
    "                        # HFC moved from air to ghg\n",
    "                        \"air\": [\"CO_12\", \"NMVOC_13\", \"PM10_14\"]}\n",
    "        emissions = emission_category[category]\n",
    "        return emissions        \n",
    "    # Question 5: define summary\n",
    "    def summary(self, date=None):\n",
    "        if date:\n",
    "\n",
    "            # If date is given, print descriptive statistics for emissions\n",
    "            datetime_l = np.datetime64(f'{date}-01-01')\n",
    "            # datetime_u = np.datetime64(f'{max}-01-01')\n",
    "            data_date = self.data[self.data[\"Date\"] >= datetime_l]\n",
    "\n",
    "            column_names_list = gwp.data.columns.tolist()\n",
    "            emmisions_names = column_names_list[3:-3]\n",
    "            min_val = [0 for _ in range(len(emmisions_names))]\n",
    "            mean_val = [0 for _ in range(len(emmisions_names))]\n",
    "            max_val = [0 for _ in range(len(emmisions_names))]\n",
    "            q1 = [0 for _ in range(len(emmisions_names))]\n",
    "            q2 = [0 for _ in range(len(emmisions_names))]\n",
    "            q3 = [0 for _ in range(len(emmisions_names))]\n",
    "\n",
    "            for i in range(len(emmisions_names)):\n",
    "                \n",
    "                # Extract relevant statistics\n",
    "                min_val[i] = data_date[emmisions_names[i]].min()\n",
    "                q1[i] = np.percentile(data_date[emmisions_names[i]], 25)\n",
    "                q2[i] = data_date[emmisions_names[i]].median()\n",
    "                mean_val[i] = data_date[emmisions_names[i]].mean()\n",
    "                q3[i] = np.percentile(data_date[emmisions_names[i]], 75)\n",
    "                max_val[i] = data_date[emmisions_names[i]].max()\n",
    "\n",
    "                # Create a new DataFrame for formatted output\n",
    "            df_stats = {\n",
    "                'min': min_val,\n",
    "                '1st quartile': q1,\n",
    "                '2nd quartile': q2,\n",
    "                'mean': mean_val,\n",
    "                '3rd quartile': q3,\n",
    "                'max': max_val\n",
    "            }\n",
    "\n",
    "            desc_stats =pd.DataFrame(df_stats, index=emmisions_names)\n",
    "\n",
    "            print(desc_stats)\n",
    "        else:\n",
    "            # Print general information about the data\n",
    "            print(\"Data Path:\", self._path)\n",
    "            print(\"Metadata Path:\", self._meta_path)\n",
    "            print(\"Shape of Data:\", self.data.shape)\n",
    "            print(\"Number of Emission Sources:\", self.data[\"Source\"].nunique())\n",
    "            print(\"Number of Emission Variables:\", len(self.data[\"Source\"]))\n",
    "            print(\"First Date:\", self.data[\"Date\"].min())\n",
    "            print(\"Latest Date:\", self.data[\"Date\"].max())\n"
   ]
  },
  {
   "cell_type": "code",
   "execution_count": 245,
   "metadata": {},
   "outputs": [],
   "source": [
    "gwp = GWP(path=\"data/83300ENG_UntypedDataSet_29032023_184145.csv\", meta_path='data/83300ENG_metadata.csv')"
   ]
  },
  {
   "cell_type": "markdown",
   "metadata": {},
   "source": [
    "## Assignment\n",
    "\n",
    "#### 1) Class GWP [4p].\n",
    "\n",
    "- Create the class `GWP` (Global Warming Potential) which is initialised with raw data along with the meta information.\n",
    "- Create class attributes [emissions](emissions.md) and [emission_sources](emission_sources.md) from the metadata.\n",
    "- Additional attributes:\n",
    "    - `Date` :  of type timestamp created from the variable `Periods`\n",
    "    - `Source` : holding the `Title` values of the emission source in the metadata."
   ]
  },
  {
   "cell_type": "code",
   "execution_count": 205,
   "metadata": {},
   "outputs": [],
   "source": [
    "gwp = GWP(path=\"data/83300ENG_UntypedDataSet_29032023_184145.csv\", meta_path='data/83300ENG_metadata.csv')"
   ]
  },
  {
   "cell_type": "code",
   "execution_count": null,
   "metadata": {},
   "outputs": [],
   "source": [
    "gwp.data.head()"
   ]
  },
  {
   "cell_type": "code",
   "execution_count": null,
   "metadata": {
    "collapsed": false
   },
   "outputs": [],
   "source": [
    "gwp.emission.head()"
   ]
  },
  {
   "cell_type": "code",
   "execution_count": null,
   "metadata": {
    "collapsed": false
   },
   "outputs": [],
   "source": [
    "gwp.emission_sources.head()"
   ]
  },
  {
   "cell_type": "code",
   "execution_count": null,
   "metadata": {
    "collapsed": false
   },
   "outputs": [],
   "source": [
    "gwp.data.dtypes"
   ]
  },
  {
   "cell_type": "markdown",
   "metadata": {
    "collapsed": false
   },
   "source": [
    "#### 2) Greenhouse equivalents [1p].\n",
    "\n",
    "The [greenhouse equivalents](https://www.cbs.nl/en-gb/news/2020/19/uitstoot-broeikasgassen-3-procent-lager-in-2019/co2-equivalents) is a measure to relate othe other gases to CO2.\n",
    "\n",
    "- Convert `N2O_4` and `CH4_5` in `GWP.data` to CO2 equivalents.\n",
    "- Add a new variable `HFC` to the GWP.data which contains the fluorine (chlorine) gases CO2 equivalents. HFC stands for hydrofluorocarbons (see [Fluorinated gases](https://en.wikipedia.org/wiki/Fluorinated_gases)). The emission has been added to the total greenhouse gas equivalent but not specified as separate variable. See also *greenhouse gas equivalents* description in the metadata."
   ]
  },
  {
   "cell_type": "markdown",
   "metadata": {
    "collapsed": false
   },
   "source": [
    "#### 3) Implement a plot method that produces the figure below. [3p]\n",
    "\n",
    "**Synopsis:** &nbsp; &nbsp;**<tt>GWP.plot(emission, source)</tt>**\n",
    "\n",
    "    - emission: is a list of emissions to be drawn\n",
    "    - source: list of Dutch economy sector id's or a pattern"
   ]
  },
  {
   "cell_type": "code",
   "execution_count": null,
   "metadata": {
    "collapsed": false
   },
   "outputs": [],
   "source": [
    "gwp.plot(emission=['CO_12', 'NMVOC_13'],source=['education', 'government','320000' ]);"
   ]
  },
  {
   "cell_type": "markdown",
   "metadata": {
    "collapsed": false
   },
   "source": [
    "\n",
    "#### 4) Emission categories [1p]\n",
    "\n",
    "There are 4 categories of emissions:\n",
    "   - Greenhouse gases (climate change) {TotalCO2_1, CO2ExclBiomass_2, CO2Biomass_3, N2O_4, CH4_5, GreenhouseGasEquivalents_6}\n",
    "   - Acidification {NOx_7, SO2_8, NH3_9, AcidificationEquivalents_10}\n",
    "   - Ozone layer depletion {CFK12Equivalents_11}\n",
    "   - Other air pollution {CO_12, NMVOC_13, PM10_14, HFC}\n",
    "\n",
    "Implement the method `get_emission` with the following specification:\n",
    "\n",
    "**Synopsis:** &nbsp; &nbsp;**<tt>GWP.get_emission(emission_category)</tt>**\n",
    "\n",
    "   - emission_category : {ghg, acid, ozone, air}\n",
    "   - return value : list of variable names of the given category.\n"
   ]
  },
  {
   "cell_type": "code",
   "execution_count": null,
   "metadata": {
    "collapsed": false
   },
   "outputs": [],
   "source": [
    "gwp.plot(emission=gwp.get_emission('air'),source=['transport']);"
   ]
  },
  {
   "cell_type": "markdown",
   "metadata": {
    "collapsed": false
   },
   "source": [
    "#### 5) Summary [1p]\n",
    "\n",
    "Implement the `summary` method which gives `general information` about the data such as:\n",
    "- data and meta file paths\n",
    "- shape of the data\n",
    "- number of emission sources.\n",
    "- number of emission variables\n",
    "- first and latest date\n",
    "\n",
    "\n",
    "**Synopsis:** &nbsp; &nbsp;**<tt>GWP.summary(date)</tt>**\n",
    "   - `date`     : tuple of dates (min,[max]).\n",
    "\n",
    "If `date` is given then print a DataFrame of descriptive statistics with columns {min, 1st quartile, 2nd quartile, mean 3rd quartile, max} and emission as row indices. In this case do not output the `general information`. Note, for the `date` method argument, in case 'max' is omitted then the summary is given for a single year.\n"
   ]
  },
  {
   "cell_type": "code",
   "execution_count": 231,
   "metadata": {},
   "outputs": [
    {
     "name": "stdout",
     "output_type": "stream",
     "text": [
      "Data Path: data/83300ENG_UntypedDataSet_29032023_184145.csv\n",
      "Metadata Path: data/83300ENG_metadata.csv\n",
      "Shape of Data: (1888, 20)\n",
      "Number of Emission Sources: 59\n",
      "Number of Emission Variables: 1888\n",
      "First Date: 1990-01-01 00:00:00\n",
      "Latest Date: 2021-01-01 00:00:00\n"
     ]
    }
   ],
   "source": [
    "gwp.summary()"
   ]
  },
  {
   "cell_type": "code",
   "execution_count": 246,
   "metadata": {},
   "outputs": [
    {
     "name": "stdout",
     "output_type": "stream",
     "text": [
      "                             min  1st quartile  2nd quartile          mean  \\\n",
      "TotalCO2_1                   0.0       430.750       1770.50  14231.980932   \n",
      "CO2ExclBiomass_2             0.0       381.000       1630.50  13531.443856   \n",
      "CO2Biomass_3                 0.0         0.600          5.90    700.532415   \n",
      "N2O_4                        0.0         0.000          0.00    889.075424   \n",
      "CH4_5                        0.0         2.500          7.50   1074.267744   \n",
      "GreenhouseGasEquivalents_6   0.0       495.000       2306.00  16647.032839   \n",
      "NOx_7                        0.0         0.700          4.40     43.100794   \n",
      "SO2_8                        0.0         0.000          0.20     10.776695   \n",
      "NH3_9                        0.0         0.000          0.00      8.949417   \n",
      "AcidificationEquivalents_10  0.0         0.000          0.10      1.793114   \n",
      "CFK12Equivalents_11          0.0         0.000          0.00     61.959905   \n",
      "CO_12                        0.0         1.175          4.00     52.138665   \n",
      "NMVOC_13                     0.0         0.800          2.65     22.014036   \n",
      "PM10_14                      0.0         0.000          0.30      3.661600   \n",
      "\n",
      "                             3rd quartile       max  \n",
      "TotalCO2_1                       9479.500  215243.0  \n",
      "CO2ExclBiomass_2                 9103.750  201727.0  \n",
      "CO2Biomass_3                      142.500   22288.3  \n",
      "N2O_4                              89.400   18327.0  \n",
      "CH4_5                              82.500   32250.0  \n",
      "GreenhouseGasEquivalents_6      10740.500  265058.0  \n",
      "NOx_7                              20.425     786.8  \n",
      "SO2_8                               3.100     255.5  \n",
      "NH3_9                               0.400     349.1  \n",
      "AcidificationEquivalents_10         0.700      45.3  \n",
      "CFK12Equivalents_11                 4.500    6194.4  \n",
      "CO_12                              22.600    1194.1  \n",
      "NMVOC_13                           10.900     622.0  \n",
      "PM10_14                             2.200      84.9  \n"
     ]
    }
   ],
   "source": [
    "gwp.summary(1990)"
   ]
  },
  {
   "cell_type": "markdown",
   "metadata": {
    "collapsed": false
   },
   "source": [
    "#### 6) Bonus point\n",
    "\n",
    "Add a new plot method to the class which gives a different kind of information than the one given in GWP.plot."
   ]
  }
 ],
 "metadata": {
  "kernelspec": {
   "display_name": "Python 3",
   "language": "python",
   "name": "python3"
  },
  "language_info": {
   "codemirror_mode": {
    "name": "ipython",
    "version": 3
   },
   "file_extension": ".py",
   "mimetype": "text/x-python",
   "name": "python",
   "nbconvert_exporter": "python",
   "pygments_lexer": "ipython3",
   "version": "3.12.1"
  }
 },
 "nbformat": 4,
 "nbformat_minor": 0
}
